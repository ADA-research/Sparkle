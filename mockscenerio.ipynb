{
 "cells": [
  {
   "cell_type": "code",
   "id": "initial_id",
   "metadata": {
    "collapsed": true,
    "jupyter": {
     "is_executing": true
    }
   },
   "source": [
    "import sparkle\n",
    "\n",
    "sparkle.Sparkle(location=\"./\")\n",
    "\n",
    "sparke.configure()\n",
    "\n"
   ],
   "outputs": [],
   "execution_count": null
  },
  {
   "metadata": {},
   "cell_type": "code",
   "outputs": [],
   "execution_count": null,
   "source": [
    "sparkle.backend = sparkle.backends.SLURM\n",
    "\n",
    "solvers = sparkle.sparkle.solver()\n",
    "\n",
    "instances = sparkle.sparkle.instances()\n",
    "\n",
    "sparkle.configurator.SMAC2(solvers=solvers, instances=instances, budget)"
   ],
   "id": "db108260a2e8d2eb"
  }
 ],
 "metadata": {
  "kernelspec": {
   "display_name": "Python 3",
   "language": "python",
   "name": "python3"
  },
  "language_info": {
   "codemirror_mode": {
    "name": "ipython",
    "version": 2
   },
   "file_extension": ".py",
   "mimetype": "text/x-python",
   "name": "python",
   "nbconvert_exporter": "python",
   "pygments_lexer": "ipython2",
   "version": "2.7.6"
  }
 },
 "nbformat": 4,
 "nbformat_minor": 5
}
